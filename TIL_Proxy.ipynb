{
 "cells": [
  {
   "cell_type": "code",
   "execution_count": 8,
   "id": "324884e5",
   "metadata": {},
   "outputs": [],
   "source": [
    "#Proxy를 사용한 웹스크레이핑 \n",
    "from selenium import webdriver\n",
    "import chromedriver_autoinstaller\n",
    "import time \n",
    "\n",
    "path = chromedriver_autoinstaller.install()"
   ]
  },
  {
   "cell_type": "code",
   "execution_count": 9,
   "id": "c60cb857",
   "metadata": {},
   "outputs": [],
   "source": [
    "# free proxy list: https://free-proxy-list.net/ \n",
    "# PROXY = \"IP:Port\"\n",
    "PROXY = \"34.121.55.127:8080\"\n",
    "\n",
    "webdriver.DesiredCapabilities.CHROME['proxy'] = {\n",
    "    \"httpProxy\": PROXY,\n",
    "    \"ftpProxy\": PROXY,\n",
    "    \"sslProxy\": PROXY, \n",
    "    \"proxyType\": \"MANUAL\"    \n",
    "}\n",
    "\n",
    "driver = webdriver.Chrome(path)\n",
    "driver.get(\"https://www.google.com\")\n",
    "\n",
    "# successful "
   ]
  },
  {
   "cell_type": "code",
   "execution_count": null,
   "id": "e99951f8",
   "metadata": {},
   "outputs": [],
   "source": []
  }
 ],
 "metadata": {
  "kernelspec": {
   "display_name": "Python 3 (ipykernel)",
   "language": "python",
   "name": "python3"
  },
  "language_info": {
   "codemirror_mode": {
    "name": "ipython",
    "version": 3
   },
   "file_extension": ".py",
   "mimetype": "text/x-python",
   "name": "python",
   "nbconvert_exporter": "python",
   "pygments_lexer": "ipython3",
   "version": "3.7.0"
  }
 },
 "nbformat": 4,
 "nbformat_minor": 5
}
