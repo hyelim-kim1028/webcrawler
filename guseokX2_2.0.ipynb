{
 "cells": [
  {
   "cell_type": "code",
   "execution_count": 1,
   "id": "e493b4bd",
   "metadata": {},
   "outputs": [],
   "source": [
    "# 필요한 모듈과 라이브러리를 로딩\n",
    "from bs4 import BeautifulSoup\n",
    "from selenium import webdriver\n",
    "from selenium.webdriver.support.ui import WebDriverWait\n",
    "from selenium.webdriver.common.by import By\n",
    "from selenium.webdriver.support import expected_conditions as EC\n",
    "from selenium.webdriver.common.keys import Keys\n",
    "import pandas as pd\n",
    "import time, os, math, random, sys, datetime\n",
    "from datetime import date, timedelta, datetime\n",
    "import pyautogui\n",
    "from tqdm import tqdm\n",
    "import re\n",
    "\n",
    "# chromedriver 자동 설치\n",
    "import chromedriver_autoinstaller\n",
    "\n",
    "from selenium.webdriver.common.action_chains import ActionChains"
   ]
  },
  {
   "cell_type": "code",
   "execution_count": 2,
   "id": "ace129cf",
   "metadata": {},
   "outputs": [
    {
     "name": "stdout",
     "output_type": "stream",
     "text": [
      "================================================================================\n",
      " 대한민국 구석구석 크롤러 2.0 입니다\n",
      "================================================================================\n",
      "================================================================================\n",
      "데이터 크롤링을 시작합니다\n",
      "================================================================================\n"
     ]
    }
   ],
   "source": [
    "print(\"=\" * 80)\n",
    "print(\" 대한민국 구석구석 크롤러 2.0 입니다\")\n",
    "print(\"=\" * 80)\n",
    "\n",
    "f_dir = os.path.expanduser('~') + f'\\\\Desktop\\\\crawler-bot\\\\Guseok\\\\2.0\\\\' # 운영체제에 상관없이 바로 바탕화면 폴더에 작업 \n",
    "i_dir = os.path.expanduser('~') + f'\\\\Desktop\\\\crawler-bot\\\\Guseok\\\\2.0\\\\img\\\\'\n",
    "\n",
    "print(\"=\" * 80)\n",
    "print(\"데이터 크롤링을 시작합니다\")\n",
    "print(\"=\" * 80)"
   ]
  },
  {
   "cell_type": "code",
   "execution_count": 3,
   "id": "f1214d5a",
   "metadata": {},
   "outputs": [],
   "source": [
    "# 저장될 파일 경로와 이름을 지정 \n",
    "# 파일을 저장할 폴더 위치를 만들고, 중복일 경우 해당 폴더를 삭제하고 서로 생성합니다 \n",
    "\n",
    "try:\n",
    "    os.makedirs(f_dir)\n",
    "    os.makedirs(i_dir)\n",
    "except: pass \n",
    "else: \n",
    "    os.chdir(f_dir)\n",
    "    os.chdir(i_dir)\n",
    "\n",
    "fc_name = f_dir + '\\\\'+f'guseokX2.csv' \n",
    "ic_name = i_dir + '\\\\' + f'img'"
   ]
  },
  {
   "cell_type": "code",
   "execution_count": 4,
   "id": "e3ea3f71",
   "metadata": {},
   "outputs": [],
   "source": [
    "# 크롤링 데이터가 들어갈 리스트 생성 \n",
    "titList = []\n",
    "locList = []\n",
    "textList = []\n",
    "tagList = []\n",
    "imgList = []"
   ]
  },
  {
   "cell_type": "code",
   "execution_count": 5,
   "id": "3a78ab97",
   "metadata": {},
   "outputs": [],
   "source": [
    "# chromedriver-autoinstaller 이용\n",
    "chromedriver_autoinstaller.install(cwd=True)\n",
    "\n",
    "# HEADLESS MODE\n",
    "options = webdriver.ChromeOptions()\n",
    "# options.add_argument('headless')\n",
    "options.add_argument('window-size=1920x1080') \n",
    "# options.add_argument(\"--disable-gpu\")\n",
    "options.add_experimental_option('excludeSwitches', ['enable-logging'])\n",
    "options.add_argument(\"user-agent=Mozilla/5.0 (Macintosh; Intel Mac OS X 10_12_6) AppleWebKit/537.36 (KHTML, like Gecko) Chrome/61.0.3163.100 Safari/537.36\")\n",
    "args = [\"hide_console\", ]\n",
    "\n",
    "# 알림창 끄기\n",
    "options.add_experimental_option(\"prefs\", {\"profile.default_content_setting_values.notifications\": 1})\n",
    "\n",
    "# 웹사이트 접속 후 해당 메뉴로 이동\n",
    "driver = webdriver.Chrome(options=options,service_args=args)\n",
    "driver.maximize_window()"
   ]
  },
  {
   "cell_type": "code",
   "execution_count": 6,
   "id": "aa90aa6a",
   "metadata": {},
   "outputs": [],
   "source": [
    "# 대한민국 구석구석 페이지 크롤링 # 홈화면 \n",
    "query_url = (\"https://korean.visitkorea.or.kr/main/main.do#home\")\n",
    "driver.get(query_url)\n",
    "driver.implicitly_wait(5)\n",
    "time.sleep(1)\n",
    "\n",
    "cur_url = driver.current_url \n",
    "\n",
    "# 팝업창 닫기 \n",
    "pop_button = driver.find_element_by_xpath(\"/html/body/div[10]/div[1]/div/div/button\")\n",
    "pop_button.click()\n",
    "time.sleep(1)"
   ]
  },
  {
   "cell_type": "code",
   "execution_count": 7,
   "id": "073f6607",
   "metadata": {},
   "outputs": [
    {
     "name": "stdout",
     "output_type": "stream",
     "text": [
      "============= guseok X2 크롤링 진행 중 =============\n"
     ]
    }
   ],
   "source": [
    "domain1 = \"guseok X2\"\n",
    "print(\"=============\",domain1,\"크롤링 진행 중\",\"=============\")"
   ]
  },
  {
   "cell_type": "code",
   "execution_count": 8,
   "id": "ac005dba",
   "metadata": {},
   "outputs": [],
   "source": [
    "# 검색창 클릭 \n",
    "from selenium.webdriver.common.keys import Keys\n",
    "\n",
    "# 검생창 클릭 > 어제의 인기 검색어 나오게 만들기 \n",
    "search = driver.find_element_by_xpath('//*[@id=\"openSearchFormInput\"]')\n",
    "# search.click() #처음엔 됐는데, 다시 에러: ElementClickInterceptedException  \n",
    "time.sleep(3)\n",
    "search.click()\n",
    "\n",
    "# full xpath, click 하면 ElementNotIntertactableException에러가난다! (왜지?)\n",
    "# search = driver.find_element_by_id(\"searchInput\").click()\n",
    "# search.send_keys(Keys.ENTER) 로 해결해주었을 때는 페이지가 넘어가는 어려움이 있었다 \n",
    "# 결론: full xpath가 아닌 그냥 xpath를 주었을 때 에러가 나지않고 어제의 인기 검색어 클릭 가능 \n",
    "\n",
    "# search.click() #처음엔 됐는데, 다시 에러: ElementClickInterceptedException  \n",
    "# 순서: search 설정 > click() > time.sleep \n",
    "# time.sleep 이후에 click()을 주면 정상적으로 작동한다 "
   ]
  },
  {
   "cell_type": "code",
   "execution_count": 58,
   "id": "4dec269e",
   "metadata": {},
   "outputs": [
    {
     "name": "stdout",
     "output_type": "stream",
     "text": [
      "keywords: ['어제의 인기 검색어,1,계곡,2,힐링,3,비대면 안심관광지 25선 여름,4,여행,5,여수,6,드라이브,7,제주도,8,경기도,9,경주,10,강원도']\n",
      "b:['어제의 인기 검색어', '1', '계곡', '2', '힐링', '3', '비대면 안심관광지 25선 여름', '4', '여행', '5', '여수', '6', '드라이브', '7', '제주도', '8', '경기도', '9', '경주', '10', '강원도']\n",
      "keywords2:['어제의 인기 검색어', '1', '계곡', '2', '힐링', '3', '비대면 안심관광지 25선 여름', '4', '여행', '5', '여수', '6', '드라이브', '7', '제주도', '8', '경기도', '9', '경주', '10', '강원도']\n"
     ]
    }
   ],
   "source": [
    "# 인기검색어 크롤링 (연습)\n",
    "# keywords = []\n",
    "\n",
    "# 어제의 인기 검색어 \n",
    "# div class = \"area_keyword\" \n",
    "# ul id = \"y_keyword01\" \n",
    "\n",
    "# area_ = driver.find_elements_by_class_name('area_keyword')\n",
    "# area15 = driver.find_elements_by_id('y_keyword01')\n",
    "# area610 = driver.find_elements_by_id('y_keyword02')\n",
    "# # print(area_)\n",
    "\n",
    "# for keyword in area_:\n",
    "#     keyword = keyword.text \n",
    "#     keyword = keyword.replace('\\n',',')\n",
    "# #     keyword.spllit(',')\n",
    "#     keywords.append(keyword)\n",
    "\n",
    "# keywords.remove('')\n",
    "# print(f'keywords: {keywords}')\n",
    "\n",
    "# b = []\n",
    "# for i in keywords: \n",
    "#     b += i.split(\",\")\n",
    "\n",
    "# print(f'b:{b}')\n",
    "#     왜 b의 결과값이 2개지? \n",
    "    \n",
    "# keywords # return an obj type-ish info \n",
    "# solution > keyword.text 로 바꿔줌 \n",
    "# print([e.text for e in driver.find_elements_by_class_name('tit')[:10]])\n",
    "\n",
    "# keywords.remove('')\n",
    "# keywords.split(',')\n",
    "\n",
    "# list2 = ','.join(keywords).split(',')\n",
    "# print(f'keywords2:{list2}')\n",
    "# print\n",
    "# print(keywords)\n",
    "\n",
    "# for keyword in key\n",
    "\n",
    "# keywords2 = keywords.replace(\"\\n\",\",\")\n",
    "\n",
    "# keywords.remove('')\n",
    "# keywords.remove('어제의 인기 검색어')\n",
    "# cannot be removed becuase they are one big string \n",
    "\n",
    "# 인기 검색어 \n",
    "# <li> \n",
    "#  <span class = \"num\">{num}</span> \n",
    "#  <a href = \"javascript:goSearchList('{word}');\">{word}</a>\n",
    "# </li> \n",
    "\n",
    "#룹으로 keywords에 append\n",
    "\n",
    "# for i in range(10):\n",
    "#     keyword = driver.find_element_by_ff('')\n",
    "#     keywords.append(keyword)"
   ]
  },
  {
   "cell_type": "code",
   "execution_count": 12,
   "id": "3dc61707",
   "metadata": {},
   "outputs": [
    {
     "name": "stdout",
     "output_type": "stream",
     "text": [
      "keywords15: ['1,계곡,2,힐링,3,비대면 안심관광지 25선 여름,4,여행,5,여수']\n",
      "keywords15 2.0:['1', '계곡', '2', '힐링', '3', '비대면 안심관광지 25선 여름', '4', '여행', '5', '여수']\n",
      "keywords610: ['6,드라이브,7,제주도,8,경기도,9,경주,10,강원도']\n",
      "keywords610 2.0:['6', '드라이브', '7', '제주도', '8', '경기도', '9', '경주', '10', '강원도']\n"
     ]
    }
   ],
   "source": [
    "keywords15 = []\n",
    "keywords610 = []\n",
    "\n",
    "area15 = driver.find_elements_by_id('y_keyword01')\n",
    "area610 = driver.find_elements_by_id('y_keyword02')\n",
    "\n",
    "# list 15 \n",
    "for keyword in area15:\n",
    "    keyword = keyword.text \n",
    "    keyword = keyword.replace('\\n',',')\n",
    "#     keyword.spllit(',')\n",
    "    keywords15.append(keyword)\n",
    "\n",
    "# keywords15.remove('')\n",
    "print(f'keywords15: {keywords15}')\n",
    "\n",
    "# b = []\n",
    "# for i in keywords15: \n",
    "#     b += i.split(\",\")\n",
    "\n",
    "# print(f'b:{b}')\n",
    "\n",
    "list15 = ','.join(keywords15).split(',')\n",
    "print(f'keywords15 2.0:{list15}')\n",
    "\n",
    "\n",
    "# list610 \n",
    "for keyword in area610:\n",
    "    keyword = keyword.text \n",
    "    keyword = keyword.replace('\\n',',')\n",
    "#     keyword.spllit(',')\n",
    "    keywords610.append(keyword)\n",
    "\n",
    "# keywords610.remove('')\n",
    "print(f'keywords610: {keywords610}')\n",
    "\n",
    "# b = []\n",
    "# for i in keywords610: \n",
    "#     b += i.split(\",\")\n",
    "\n",
    "# print(f'b:{b}')\n",
    "\n",
    "list610 = ','.join(keywords610).split(',')\n",
    "print(f'keywords610 2.0:{list610}')"
   ]
  },
  {
   "cell_type": "code",
   "execution_count": 13,
   "id": "ba087651",
   "metadata": {},
   "outputs": [
    {
     "name": "stdout",
     "output_type": "stream",
     "text": [
      "original: ['1', '계곡', '2', '힐링', '3', '비대면 안심관광지 25선 여름', '4', '여행', '5', '여수', '6', '드라이브', '7', '제주도', '8', '경기도', '9', '경주', '10', '강원도']\n",
      "\n",
      "\n",
      "only locs: ['계곡', '힐링', '비대면 안심관광지 25선 여름', '여행', '여수', '드라이브', '제주도', '경기도', '경주', '강원도']\n",
      "\n",
      "\n",
      "1 계곡\n",
      "2 힐링\n",
      "3 비대면 안심관광지 25선 여름\n",
      "4 여행\n",
      "5 여수\n",
      "6 드라이브\n",
      "7 제주도\n",
      "8 경기도\n",
      "9 경주\n",
      "10 강원도\n"
     ]
    }
   ],
   "source": [
    "# 인기 검색어 \n",
    "# 1. 숫자 - 키워드로 정리 \n",
    "# 2. 1-5 와 6-10 합치기 \n",
    "\n",
    "# 1. 리스트 합치기 (keywordsf)\n",
    "# ref. https://codechacha.com/ko/python-join-lists/ \n",
    "keywordsf = list15 + list610\n",
    "print(f'original: {keywordsf}')\n",
    "\n",
    "# skipping every other element \n",
    "\n",
    "print('\\n')\n",
    "\n",
    "def altElement(a):\n",
    "    return a[1::2]\n",
    "            # a[start_index:end_index:step]\n",
    "\n",
    "keywordsf = altElement(keywordsf)\n",
    "print(f'only locs: {keywordsf}')\n",
    "\n",
    "print('\\n')\n",
    "\n",
    "# check index \n",
    "for i, ele in enumerate(keywordsf, start = 1): # index start = 1 \n",
    "    print(i, ele)\n"
   ]
  },
  {
   "cell_type": "code",
   "execution_count": 14,
   "id": "74c3227a",
   "metadata": {},
   "outputs": [
    {
     "data": {
      "text/plain": [
       "['CDwindow-E6130300FB95217264864487AEF4C57C']"
      ]
     },
     "execution_count": 14,
     "metadata": {},
     "output_type": "execute_result"
    }
   ],
   "source": [
    "# keywordsf 에 따라 페이지 이동 \n",
    "# driver.swit_to.window(driver.window_handles[0]) # 탭 변경 \n",
    "\n",
    "# chrome driver list \n",
    "driver.window_handles\n",
    "\n",
    "# 크롤링 \n",
    "# 돌아오기 "
   ]
  },
  {
   "cell_type": "code",
   "execution_count": null,
   "id": "891c78d6",
   "metadata": {},
   "outputs": [],
   "source": [
    "while_code = 0 \n",
    "page_num = 0 \n",
    "\n",
    "for keyword in keywordsf: \n",
    "    \n",
    "    # keyword page 들어가기 \n",
    "    keyword_tab = (f'https://korean.visitkorea.or.kr/search/search_list.do?keyword={keyword}')\n",
    "    driver.get(keyword_tab)\n",
    "    time.sleep(3)\n",
    "    \n",
    "    while True: \n",
    "\n",
    "        if while_code == 1:\n",
    "            break \n",
    "\n",
    "\n",
    "        target = 'https://korean.visitkorea.or.kr/search/search_list.do?keyword={keyword}'\n",
    "        html = driver.page_source \n",
    "        soup = BeautifulSoup(html, 'html.parser')\n",
    "#         item_box = soup.find('div',class_='search_body').find('ul',{'class':'list_thumType type1'}).find_all(name='li', attrs = {'class':False})\n",
    "        item_box = soup.find('class':'list_thumType type1').find_all(name='li', attrs = {'class':False})\n",
    "        print(\"scout1\")\n",
    "        \n",
    "        for item in item_box: \n",
    "            \n",
    "            try: \n",
    "            \n",
    "                tit = item.find(attrs = {'class':'tit'}, limit =5).text\n",
    "                loc = item.find(attrs = {'class':'service'}, limit =5).text\n",
    "                tag = item.find(attrs = {'class': 'ar_tag'}, limit =5).text\n",
    "                \n",
    "                # 본문에서 텍스트 가져오기 \n",
    "                # 제목 클릭 \n",
    "                for i in range(1,6): \n",
    "                    titlec = driver.find_elements_by_xpath(f'//*[@id=\"listBody\"]/ul/li[{i}]/div[2]/div[1]/a').click()\n",
    "                    text = item.find(attrs = {'class':'inr'}, limit =5).text \n",
    "                    driver.back()\n",
    "                \n",
    "                print(tit)\n",
    "                print(loc)\n",
    "                print(tag)\n",
    "                print(text)\n",
    "            \n",
    "            except: \n",
    "                if len(textList) == 5:\n",
    "                    while_code = 1\n",
    "                    break \n",
    "            \n",
    "                pass \n",
    "            \n",
    "            titList.append(tit)\n",
    "            locList.append(loc)\n",
    "            tagList.append(tag)\n",
    "            textList.append(text)\n",
    "    \n",
    "    # 이 전 페이지로 이동 \n",
    "    driver.back()\n",
    "    \n"
   ]
  },
  {
   "cell_type": "code",
   "execution_count": 96,
   "id": "6119d99a",
   "metadata": {},
   "outputs": [
    {
     "data": {
      "text/plain": [
       "['CDwindow-473F71BA2D53E30333C2A83C8CC9AB4A']"
      ]
     },
     "execution_count": 96,
     "metadata": {},
     "output_type": "execute_result"
    }
   ],
   "source": [
    "# 이미지 크롤러 \n",
    "\n",
    "#                 img = item.find(attrs = {'class': 'photo'}, limit =5).src \n",
    "                \n",
    "#                 n = 1\n",
    "#                 for i in img: \n",
    "#                     imgUrl = i['data-source']\n",
    "#                     with urlopen(imgUrl) as f: "
   ]
  },
  {
   "cell_type": "code",
   "execution_count": null,
   "id": "ffff6003",
   "metadata": {},
   "outputs": [],
   "source": []
  }
 ],
 "metadata": {
  "kernelspec": {
   "display_name": "Python 3 (ipykernel)",
   "language": "python",
   "name": "python3"
  },
  "language_info": {
   "codemirror_mode": {
    "name": "ipython",
    "version": 3
   },
   "file_extension": ".py",
   "mimetype": "text/x-python",
   "name": "python",
   "nbconvert_exporter": "python",
   "pygments_lexer": "ipython3",
   "version": "3.7.0"
  }
 },
 "nbformat": 4,
 "nbformat_minor": 5
}
