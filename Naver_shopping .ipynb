{
 "cells": [
  {
   "cell_type": "code",
   "execution_count": null,
   "id": "c6448313",
   "metadata": {},
   "outputs": [],
   "source": [
    "# 목표 \n",
    "# 키워드 : 배수구집게\n",
    "# 범위 : 전체 페이지 \n",
    "# 수집대상 : 제목, 가격, 판매자(포인트 추가)\n",
    "# 관련 내용 : 네이버 카페 참조\n",
    "# 시간차, 프록시 포함 \n",
    "# if possible: VPN 우회방법까지 \n",
    "\n",
    "# 시간차란? \n",
    "# selenium.wait \n",
    "# implicitly wait vs explicitly wait \n",
    "# time.sleep \n",
    "# https://pythondocs.net/selenium/%EC%85%80%EB%A0%88%EB%8B%88%EC%9B%80-wait-%EA%B0%9C%EB%85%90-%EC%9D%B4%ED%95%B4%ED%95%98%EA%B8%B0-implicitly-wait-vs-explicitly-wait/\n",
    "\n",
    "# implicitly wait (웹페이지 전체가 넘어올때까지 기다리기) \n",
    "# implicitly_wait(10) # 최대 10초 기다리기 (O), 무조건 (X)\n",
    "\n",
    "# explicity wait (웹페이지의 일부분이 나타날때까지 기다리기)\n",
    "# 내가 필요한 그 부분이 나올때까지 기다려라 \n",
    "\n",
    "# time.sleep (물리적인 시간 기다리기)\n",
    "# time.sleep(10) #무조건 10초 기다리기 \n",
    "\n",
    "# 프록시란? \n",
    "# set IP:port "
   ]
  },
  {
   "cell_type": "code",
   "execution_count": null,
   "id": "762ef6f4",
   "metadata": {},
   "outputs": [],
   "source": [
    "# keyword = ['배수구집게'] \n",
    "# keyword가 하나이므로 pass "
   ]
  },
  {
   "cell_type": "code",
   "execution_count": 1,
   "id": "a507740c",
   "metadata": {},
   "outputs": [],
   "source": [
    "# 필요한 모듈과 라이브러리를 로딩\n",
    "from bs4 import BeautifulSoup\n",
    "from selenium import webdriver\n",
    "from selenium.webdriver.support.ui import WebDriverWait\n",
    "from selenium.webdriver.common.by import By\n",
    "from selenium.webdriver.support import expected_conditions as EC\n",
    "from selenium.webdriver.common.keys import Keys\n",
    "import pandas as pd\n",
    "import time, os, math, random, sys, datetime\n",
    "from datetime import date, timedelta, datetime\n",
    "import pyautogui\n",
    "from tqdm import tqdm\n",
    "import re\n",
    "from urllib.request import urlopen \n",
    "\n",
    "# chromedriver 자동 설치\n",
    "import chromedriver_autoinstaller\n",
    "\n",
    "from selenium.webdriver.common.action_chains import ActionChains"
   ]
  },
  {
   "cell_type": "code",
   "execution_count": 2,
   "id": "ca370cd4",
   "metadata": {},
   "outputs": [
    {
     "name": "stdout",
     "output_type": "stream",
     "text": [
      "================================================================================\n",
      " 네이버 쇼핑 크롤러 입니다\n",
      "================================================================================\n",
      "================================================================================\n",
      "데이터 크롤링을 시작합니다\n",
      "================================================================================\n"
     ]
    }
   ],
   "source": [
    "print(\"=\" * 80)\n",
    "print(\" 네이버 쇼핑 크롤러 입니다\")\n",
    "print(\"=\" * 80)\n",
    "\n",
    "f_dir = os.path.expanduser('~') + f'\\\\Desktop\\\\crawler-bot\\\\NaverShopping\\\\Hasugu\\\\' # 운영체제에 상관없이 바로 바탕화면 폴더에 작업 \n",
    "\n",
    "print(\"=\" * 80)\n",
    "print(\"데이터 크롤링을 시작합니다\")\n",
    "print(\"=\" * 80)"
   ]
  },
  {
   "cell_type": "code",
   "execution_count": 3,
   "id": "c5925e01",
   "metadata": {},
   "outputs": [],
   "source": [
    "# 저장될 파일 경로와 이름을 지정 \n",
    "# 파일을 저장할 폴더 위치를 만들고, 중복일 경우 해당 폴더를 삭제하고 서로 생성합니다 \n",
    "\n",
    "try:\n",
    "    os.makedirs(f_dir)\n",
    "except: pass \n",
    "else: \n",
    "    os.chdir(f_dir)\n",
    "\n",
    "fc_name = f_dir + '\\\\'+f'hasugu.csv' \n"
   ]
  },
  {
   "cell_type": "code",
   "execution_count": 4,
   "id": "70b67fd9",
   "metadata": {},
   "outputs": [],
   "source": [
    "# 크롤링 데이터가 들어갈 리스트 생성 \n",
    "titList = []\n",
    "priceList = []\n",
    "sellerList = []\n",
    "pointList = []"
   ]
  },
  {
   "cell_type": "code",
   "execution_count": 28,
   "id": "74f48c40",
   "metadata": {},
   "outputs": [],
   "source": [
    "# 프록시 사용 \n",
    "# https://free-proxy-list.net/ \n",
    "\n",
    "# PROXY = \"160.251.19.21:8118\" # IP:Port \n",
    "\n",
    "# webdriver.DesiredCapabilities.CHROME['proxy'] = {\n",
    "#     \"httpProxy\": PROXY,\n",
    "#     \"ftpProxy\": PROXY, \n",
    "#     \"sslProxy\" : PROXY, \n",
    "#     \"proxyType\" : \"MANUAL\"\n",
    "# }\n",
    "\n",
    "# issue 1) \n",
    "# working, 너무 느림\n",
    "\n",
    "# issue 2) \n",
    "# driver = webdriver.Chrome()\n",
    "# driver.get(\"https://www.google.com\")\n",
    "# 인터넷 연결 없음 문제 발생 \n",
    "#  첫 성공 이후 계속 프록시에 막하는 것 같음 \n",
    "# 어떻게 풀 수 있죠 ㅠㅠ??? "
   ]
  },
  {
   "cell_type": "code",
   "execution_count": 29,
   "id": "06d3b6f8",
   "metadata": {},
   "outputs": [
    {
     "ename": "WebDriverException",
     "evalue": "Message: unknown error: net::ERR_CONNECTION_RESET\n  (Session info: chrome=92.0.4515.131)\n",
     "output_type": "error",
     "traceback": [
      "\u001b[1;31m---------------------------------------------------------------------------\u001b[0m",
      "\u001b[1;31mWebDriverException\u001b[0m                        Traceback (most recent call last)",
      "\u001b[1;32m~\\AppData\\Local\\Temp/ipykernel_8704/3620784859.py\u001b[0m in \u001b[0;36m<module>\u001b[1;34m\u001b[0m\n\u001b[0;32m     20\u001b[0m \u001b[1;31m# original query\u001b[0m\u001b[1;33m\u001b[0m\u001b[1;33m\u001b[0m\u001b[0m\n\u001b[0;32m     21\u001b[0m \u001b[0mquery\u001b[0m \u001b[1;33m=\u001b[0m \u001b[1;33m(\u001b[0m\u001b[1;34m\"https://search.shopping.naver.com/search/all?query=%ED%95%98%EC%88%98%EA%B5%AC%EC%A7%91%EA%B2%8C&cat_id=&frm=NVSHATC\"\u001b[0m\u001b[1;33m)\u001b[0m\u001b[1;33m\u001b[0m\u001b[0m\n\u001b[1;32m---> 22\u001b[1;33m \u001b[0mdriver\u001b[0m\u001b[1;33m.\u001b[0m\u001b[0mget\u001b[0m\u001b[1;33m(\u001b[0m\u001b[0mquery\u001b[0m\u001b[1;33m)\u001b[0m\u001b[1;33m\u001b[0m\u001b[0m\n\u001b[0m\u001b[0;32m     23\u001b[0m \u001b[1;33m\u001b[0m\u001b[0m\n\u001b[0;32m     24\u001b[0m \u001b[1;31m# google.com_test\u001b[0m\u001b[1;33m\u001b[0m\u001b[1;33m\u001b[0m\u001b[0m\n",
      "\u001b[1;32mc:\\programs\\python37\\lib\\site-packages\\selenium\\webdriver\\remote\\webdriver.py\u001b[0m in \u001b[0;36mget\u001b[1;34m(self, url)\u001b[0m\n\u001b[0;32m    331\u001b[0m         \u001b[0mLoads\u001b[0m \u001b[0ma\u001b[0m \u001b[0mweb\u001b[0m \u001b[0mpage\u001b[0m \u001b[1;32min\u001b[0m \u001b[0mthe\u001b[0m \u001b[0mcurrent\u001b[0m \u001b[0mbrowser\u001b[0m \u001b[0msession\u001b[0m\u001b[1;33m.\u001b[0m\u001b[1;33m\u001b[0m\u001b[0m\n\u001b[0;32m    332\u001b[0m         \"\"\"\n\u001b[1;32m--> 333\u001b[1;33m         \u001b[0mself\u001b[0m\u001b[1;33m.\u001b[0m\u001b[0mexecute\u001b[0m\u001b[1;33m(\u001b[0m\u001b[0mCommand\u001b[0m\u001b[1;33m.\u001b[0m\u001b[0mGET\u001b[0m\u001b[1;33m,\u001b[0m \u001b[1;33m{\u001b[0m\u001b[1;34m'url'\u001b[0m\u001b[1;33m:\u001b[0m \u001b[0murl\u001b[0m\u001b[1;33m}\u001b[0m\u001b[1;33m)\u001b[0m\u001b[1;33m\u001b[0m\u001b[0m\n\u001b[0m\u001b[0;32m    334\u001b[0m \u001b[1;33m\u001b[0m\u001b[0m\n\u001b[0;32m    335\u001b[0m     \u001b[1;33m@\u001b[0m\u001b[0mproperty\u001b[0m\u001b[1;33m\u001b[0m\u001b[0m\n",
      "\u001b[1;32mc:\\programs\\python37\\lib\\site-packages\\selenium\\webdriver\\remote\\webdriver.py\u001b[0m in \u001b[0;36mexecute\u001b[1;34m(self, driver_command, params)\u001b[0m\n\u001b[0;32m    319\u001b[0m         \u001b[0mresponse\u001b[0m \u001b[1;33m=\u001b[0m \u001b[0mself\u001b[0m\u001b[1;33m.\u001b[0m\u001b[0mcommand_executor\u001b[0m\u001b[1;33m.\u001b[0m\u001b[0mexecute\u001b[0m\u001b[1;33m(\u001b[0m\u001b[0mdriver_command\u001b[0m\u001b[1;33m,\u001b[0m \u001b[0mparams\u001b[0m\u001b[1;33m)\u001b[0m\u001b[1;33m\u001b[0m\u001b[0m\n\u001b[0;32m    320\u001b[0m         \u001b[1;32mif\u001b[0m \u001b[0mresponse\u001b[0m\u001b[1;33m:\u001b[0m\u001b[1;33m\u001b[0m\u001b[0m\n\u001b[1;32m--> 321\u001b[1;33m             \u001b[0mself\u001b[0m\u001b[1;33m.\u001b[0m\u001b[0merror_handler\u001b[0m\u001b[1;33m.\u001b[0m\u001b[0mcheck_response\u001b[0m\u001b[1;33m(\u001b[0m\u001b[0mresponse\u001b[0m\u001b[1;33m)\u001b[0m\u001b[1;33m\u001b[0m\u001b[0m\n\u001b[0m\u001b[0;32m    322\u001b[0m             response['value'] = self._unwrap_value(\n\u001b[0;32m    323\u001b[0m                 response.get('value', None))\n",
      "\u001b[1;32mc:\\programs\\python37\\lib\\site-packages\\selenium\\webdriver\\remote\\errorhandler.py\u001b[0m in \u001b[0;36mcheck_response\u001b[1;34m(self, response)\u001b[0m\n\u001b[0;32m    240\u001b[0m                 \u001b[0malert_text\u001b[0m \u001b[1;33m=\u001b[0m \u001b[0mvalue\u001b[0m\u001b[1;33m[\u001b[0m\u001b[1;34m'alert'\u001b[0m\u001b[1;33m]\u001b[0m\u001b[1;33m.\u001b[0m\u001b[0mget\u001b[0m\u001b[1;33m(\u001b[0m\u001b[1;34m'text'\u001b[0m\u001b[1;33m)\u001b[0m\u001b[1;33m\u001b[0m\u001b[0m\n\u001b[0;32m    241\u001b[0m             \u001b[1;32mraise\u001b[0m \u001b[0mexception_class\u001b[0m\u001b[1;33m(\u001b[0m\u001b[0mmessage\u001b[0m\u001b[1;33m,\u001b[0m \u001b[0mscreen\u001b[0m\u001b[1;33m,\u001b[0m \u001b[0mstacktrace\u001b[0m\u001b[1;33m,\u001b[0m \u001b[0malert_text\u001b[0m\u001b[1;33m)\u001b[0m\u001b[1;33m\u001b[0m\u001b[0m\n\u001b[1;32m--> 242\u001b[1;33m         \u001b[1;32mraise\u001b[0m \u001b[0mexception_class\u001b[0m\u001b[1;33m(\u001b[0m\u001b[0mmessage\u001b[0m\u001b[1;33m,\u001b[0m \u001b[0mscreen\u001b[0m\u001b[1;33m,\u001b[0m \u001b[0mstacktrace\u001b[0m\u001b[1;33m)\u001b[0m\u001b[1;33m\u001b[0m\u001b[0m\n\u001b[0m\u001b[0;32m    243\u001b[0m \u001b[1;33m\u001b[0m\u001b[0m\n\u001b[0;32m    244\u001b[0m     \u001b[1;32mdef\u001b[0m \u001b[0m_value_or_default\u001b[0m\u001b[1;33m(\u001b[0m\u001b[0mself\u001b[0m\u001b[1;33m,\u001b[0m \u001b[0mobj\u001b[0m\u001b[1;33m,\u001b[0m \u001b[0mkey\u001b[0m\u001b[1;33m,\u001b[0m \u001b[0mdefault\u001b[0m\u001b[1;33m)\u001b[0m\u001b[1;33m:\u001b[0m\u001b[1;33m\u001b[0m\u001b[0m\n",
      "\u001b[1;31mWebDriverException\u001b[0m: Message: unknown error: net::ERR_CONNECTION_RESET\n  (Session info: chrome=92.0.4515.131)\n"
     ]
    }
   ],
   "source": [
    "# chromedriver-autoinstaller 이용\n",
    "chromedriver_autoinstaller.install(cwd=True)\n",
    "\n",
    "# HEADLESS MODE\n",
    "options = webdriver.ChromeOptions()\n",
    "# options.add_argument('headless')\n",
    "options.add_argument('window-size=1920x1080') \n",
    "# options.add_argument(\"--disable-gpu\")\n",
    "options.add_experimental_option('excludeSwitches', ['enable-logging'])\n",
    "options.add_argument(\"user-agent=Mozilla/5.0 (Macintosh; Intel Mac OS X 10_12_6) AppleWebKit/537.36 (KHTML, like Gecko) Chrome/61.0.3163.100 Safari/537.36\")\n",
    "args = [\"hide_console\", ]\n",
    "\n",
    "# 알림창 끄기\n",
    "options.add_experimental_option(\"prefs\", {\"profile.default_content_setting_values.notifications\": 1})\n",
    "\n",
    "# 웹사이트 접속 후 해당 메뉴로 이동\n",
    "driver = webdriver.Chrome(options=options,service_args=args)\n",
    "driver.maximize_window()\n",
    "\n",
    "# original query \n",
    "query = (\"https://search.shopping.naver.com/search/all?query=%ED%95%98%EC%88%98%EA%B5%AC%EC%A7%91%EA%B2%8C&cat_id=&frm=NVSHATC\")\n",
    "driver.get(query)\n",
    "\n",
    "# google.com_test \n",
    "# query_test = (\"https://www.google com\")\n",
    "# driver.get(query_test)\n",
    "\n",
    "driver.implicitly_wait(5)\n",
    "time.sleep(1)\n",
    "\n",
    "cur_url = driver.current_url "
   ]
  },
  {
   "cell_type": "code",
   "execution_count": 7,
   "id": "d950dd36",
   "metadata": {},
   "outputs": [
    {
     "name": "stdout",
     "output_type": "stream",
     "text": [
      "============= Naver_Shopping 크롤링 진행 중 =============\n"
     ]
    }
   ],
   "source": [
    "domain1 = \"Naver_Shopping\"\n",
    "print(\"=============\",domain1,\"크롤링 진행 중\",\"=============\")"
   ]
  },
  {
   "cell_type": "code",
   "execution_count": null,
   "id": "6e6af872",
   "metadata": {},
   "outputs": [],
   "source": [
    "# messy version\n",
    "\n",
    "page_num = 1\n",
    "while_code = 0 \n",
    "\n",
    "while True: \n",
    "    if while_code = 1: \n",
    "        break \n",
    "    \n",
    "    driver.get('https://search.shopping.naver.com/search/all?query=%ED%95%98%EC%88%98%EA%B5%AC%EC%A7%91%EA%B2%8C&cat_id=&frm=NVSHATC')\n",
    "    driver.explicitly_wait(3)\n",
    "    \n",
    "    html = driver.page_source\n",
    "    soup = BeautifulSoup(html, 'lxml') # parser의 다른점?\n",
    "    \n",
    "    try: \n",
    "        item_box = soup.find('ul', class_= \"list_basis\").find_all(\"li\")\n",
    "        # ul class = \"list_basis\"\n",
    "        \n",
    "        for item in item_box: \n",
    "            title = item.find_all('div', class_= \"basicList_title_3P9Q7\").text\n",
    "            # div class = \"basicList_title_3P9Q7\"\n",
    "            # a target = \"_blank\" class =\"basicList_link_1MaTN\".text()\n",
    "            \n",
    "            price = item.find_all('div', class_= \"basicList_price_are_1UXXR\").text\n",
    "            # div class = \"basicList_price_are_1UXXR\"\n",
    "            # span class = \"price_num_2WUXn\".text()\n",
    "            \n",
    "            seller = item.find_all('a', class_=\"basicList_mall__sbVax\").text\n",
    "            # a target class = \"basicList_mall__sbVax\".text()\n",
    "            \n",
    "            point = item.find_all('span', class_= \"n_npay_info_2GhW_\").text\n",
    "            # span class = \"n_npay_info_2GhW_\"\n",
    "            # span # 포인트 57원 .text()\n",
    "            # how will I remove point? \n",
    "            \n",
    "            \n",
    "            print(title)\n",
    "            print(price)\n",
    "            print(seller)\n",
    "            print(point)\n",
    "            \n",
    "            titList.append(title)\n",
    "            priceList.append(price)\n",
    "            sellerList.append(seller)\n",
    "            pointList.append(point)\n",
    "        \n",
    "    except: \n",
    "        while_code =1 \n",
    "        break \n",
    "        # 나가는 조건을 주어야한다 \n",
    "    \n",
    "    page_num += 1 \n",
    "\n",
    "# Just in case \n",
    "# driver.delete_all_cookies()\n",
    "# driver.quit()"
   ]
  },
  {
   "cell_type": "code",
   "execution_count": null,
   "id": "551cbd4e",
   "metadata": {},
   "outputs": [],
   "source": [
    "#clean code "
   ]
  },
  {
   "cell_type": "code",
   "execution_count": null,
   "id": "d5ad2a10",
   "metadata": {},
   "outputs": [],
   "source": [
    "# to df #to csv \n",
    "df = pd.DataFrame()\n",
    "\n",
    "df['title'] = pd.Series(title)\n",
    "df['price'] = pd.Series(price)\n",
    "df['seller'] = pd.Series(seller)\n",
    "df['point'] = pd.Series(point)\n",
    "\n",
    "df.to_csv(fc_name, encoding = \"utf-8-sig\", index = False)"
   ]
  },
  {
   "cell_type": "code",
   "execution_count": null,
   "id": "d195b1fd",
   "metadata": {},
   "outputs": [],
   "source": [
    "e_time = time.time( )\n",
    "t_time = e_time - s_time\n",
    "\n",
    "print(\"\\n\")\n",
    "print(\"=\" *80)\n",
    "print(\"1.총 소요시간은 %s 초 입니다 \" %round(t_time,1))\n",
    "print(\"2.파일 저장 완료: csv 파일명 : %s \" %fc_name)\n",
    "\n",
    "driver.quit()\n",
    "sys.exit(\"프로그램을 종료합니다.\")"
   ]
  }
 ],
 "metadata": {
  "kernelspec": {
   "display_name": "Python 3 (ipykernel)",
   "language": "python",
   "name": "python3"
  },
  "language_info": {
   "codemirror_mode": {
    "name": "ipython",
    "version": 3
   },
   "file_extension": ".py",
   "mimetype": "text/x-python",
   "name": "python",
   "nbconvert_exporter": "python",
   "pygments_lexer": "ipython3",
   "version": "3.7.0"
  }
 },
 "nbformat": 4,
 "nbformat_minor": 5
}
