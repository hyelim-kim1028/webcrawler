{
 "cells": [
  {
   "cell_type": "code",
   "execution_count": null,
   "id": "ebb7c814",
   "metadata": {},
   "outputs": [],
   "source": [
    "import chromedriver_autoinstaller\n",
    "from selenium import webdriver\n",
    "\n",
    "# Error: WebDriverException: Message: Service chromedriver unexpectedly exited. Status code was: -6 \n",
    "# Reason: \n",
    "# solution: I thought this was because of the colab environment, so I moved from colab to jupyter ntb  \n",
    "\n",
    "# chromedriver-autoinstaller 이용\n",
    "chromedriver_autoinstaller.install(cwd=True)\n",
    "# HEADLESS MODE\n",
    "options = webdriver.ChromeOptions()\n",
    "# options.add_argument('headless')\n",
    "# options.binary_location = ('C:\\Program Files\\chromedriver.exe') #binary location # Chrome failed to start: was killed.\n",
    "options.add_argument('window-size=1920x1080')\n",
    "# options.add_argument(\"--disable-gpu\")\n",
    "options.add_experimental_option('excludeSwitches', ['enable-logging'])\n",
    "options.add_argument(\"user-agent=Mozilla/5.0 (Macintosh; Intel Mac OS X 10_12_6) AppleWebKit/537.36 (KHTML, like Gecko) Chrome/61.0.3163.100 Safari/537.36\")\n",
    "args = [\"hide_console\", ]\n",
    "# 알림창 끄기\n",
    "options.add_experimental_option(\"prefs\", {\"profile.default_content_setting_values.notifications\": 1})\n",
    "# 웹사이트 접속 후 해당 메뉴로 이동\n",
    "driver = webdriver.Chrome(options=options,service_args=args)\n",
    "driver.get(\"https://korean.visitkorea.or.kr/search/search_list.do?keyword=%ED%9E%90%EB%A7%81\")\n",
    "driver.maximize_window()"
   ]
  },
  {
   "cell_type": "code",
   "execution_count": null,
   "id": "faebe8a9",
   "metadata": {},
   "outputs": [],
   "source": [
    "# 한페이지에서 #find_elements를 사용하여 # list로 출력 \n",
    "\n",
    "print([e.text for e in driver.find_elements_by_class_name('tit')[:10]]) \n",
    "print([e.text for e in driver.find_elements_by_class_name('service')[:10]])\n",
    "print([e.text for e in driver.find_elements_by_class_name('tag_type')[:10]])"
   ]
  },
  {
   "cell_type": "code",
   "execution_count": null,
   "id": "d624679f",
   "metadata": {},
   "outputs": [],
   "source": [
    "import html\n",
    "from urllib.request import urlopen \n",
    "from bs4 import BeautifulSoup \n",
    "import re \n",
    "\n",
    "html = driver.page_source\n",
    "soup = BeautifulSoup(html, 'html.parser')\n",
    "\n",
    "item_box = soup.findAll(class_ = 'box_leftType1')  #크롤링 구역 설정 "
   ]
  },
  {
   "cell_type": "code",
   "execution_count": null,
   "id": "1b03ba9a",
   "metadata": {},
   "outputs": [],
   "source": []
  },
  {
   "cell_type": "code",
   "execution_count": null,
   "id": "7dc22310",
   "metadata": {},
   "outputs": [],
   "source": []
  },
  {
   "cell_type": "code",
   "execution_count": null,
   "id": "7458ef31",
   "metadata": {},
   "outputs": [],
   "source": []
  }
 ],
 "metadata": {
  "kernelspec": {
   "display_name": "Python 3",
   "language": "python",
   "name": "python3"
  },
  "language_info": {
   "codemirror_mode": {
    "name": "ipython",
    "version": 3
   },
   "file_extension": ".py",
   "mimetype": "text/x-python",
   "name": "python",
   "nbconvert_exporter": "python",
   "pygments_lexer": "ipython3",
   "version": "3.7.0"
  }
 },
 "nbformat": 4,
 "nbformat_minor": 5
}
